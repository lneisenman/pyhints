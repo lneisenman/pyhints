{
 "cells": [
  {
   "cell_type": "markdown",
   "metadata": {},
   "source": [
    "Summarizing across multiple data frames with Xarray\n",
    "============================"
   ]
  },
  {
   "cell_type": "markdown",
   "metadata": {},
   "source": [
    "The problem: Experimental data from a series of readings from a plate is contained in a set of [Pandas](http://pandas.pydata.org/) dataframes. For each of 4 wells (A, B, C and D) on the plate, there is a mean and sem value. There are 4 readings from the plate. We want to be able to analyse data from each well. The question is how to deal with this 3-D data set using [Xarray](http://xarray.pydata.org/en/stable/), which is now considered to be the N-dimensional version of Pandas and replaces the Panel data structure that Pandas previously used for 3d data."
   ]
  },
  {
   "cell_type": "markdown",
   "metadata": {
    "collapsed": true
   },
   "source": [
    "We'll start by creating some mock data where each experiment is in a dataframe and the dataframes are in a list called `data`."
   ]
  },
  {
   "cell_type": "code",
   "execution_count": 1,
   "metadata": {
    "collapsed": true
   },
   "outputs": [],
   "source": [
    "import matplotlib.pyplot as plt\n",
    "import numpy as np\n",
    "import pandas as pd\n",
    "import xarray as xr\n",
    "\n",
    "data = list()\n",
    "for i in range(4):\n",
    "    mean = (i+1)*np.arange(1, 5)\n",
    "    sem = np.ones(4)\n",
    "    df = pd.DataFrame(None, index=['A', 'B', 'C', 'D'])\n",
    "    df['mean'] = mean\n",
    "    df['sem'] = sem\n",
    "    data.append(df)"
   ]
  },
  {
   "cell_type": "markdown",
   "metadata": {},
   "source": [
    "What we are going to do is to convert the dataframes to Xarray DataArrays. Then we will use the `concat` function to combine into a single DataArray. Once the data is in a single DataArray, we can access whichever subset of the data we wish using dictionaries. For this demonstration, we will just plot the data."
   ]
  },
  {
   "cell_type": "code",
   "execution_count": 2,
   "metadata": {},
   "outputs": [
    {
     "data": {
      "image/png": "[encoded data removed]",
      "text/plain": [
       "<matplotlib.figure.Figure at 0x7f4f1ae90240>"
      ]
     },
     "metadata": {},
     "output_type": "display_data"
    }
   ],
   "source": [
    "exp_list = list()\n",
    "labels = list()\n",
    "for i, df in enumerate(data):\n",
    "    array = xr.DataArray(df, dims=['well', 'param'])\n",
    "    exp_list.append(array)\n",
    "    labels.append('exp'+str(i+1))\n",
    "\n",
    "combined = xr.concat(exp_list, dim=pd.Index(labels, name='exp'))\n",
    "mean = combined.loc[dict(well='A', param='mean')]\n",
    "sem = combined.loc[dict(well='A', param='sem')]\n",
    "plt.bar(range(len(mean)), mean, yerr=sem, tick_label=labels)\n",
    "plt.show()"
   ]
  }
 ],
 "metadata": {
  "kernelspec": {
   "display_name": "Python 3",
   "language": "python",
   "name": "python3"
  },
  "language_info": {
   "codemirror_mode": {
    "name": "ipython",
    "version": 3
   },
   "file_extension": ".py",
   "mimetype": "text/x-python",
   "name": "python",
   "nbconvert_exporter": "python",
   "pygments_lexer": "ipython3",
   "version": "3.5.2"
  }
 },
 "nbformat": 4,
 "nbformat_minor": 2
}
