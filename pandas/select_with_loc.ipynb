{
 "cells": [
  {
   "cell_type": "markdown",
   "metadata": {},
   "source": [
    "# Selecting rows based on the values in a specific column\n",
    "\n",
    "Suppose there is a dataframe with three columns X, Y and Z and you need to find the value of Z in the column where X has a specific value. This can be done with the `.loc` method. Lets create some data to demonstrate."
   ]
  },
  {
   "cell_type": "code",
   "execution_count": 1,
   "metadata": {},
   "outputs": [
    {
     "name": "stdout",
     "output_type": "stream",
     "text": [
      "   X  Y      Z\n",
      "0  A  1    red\n",
      "1  B  2  green\n",
      "2  C  3   blue\n"
     ]
    }
   ],
   "source": [
    "import pandas as pd\n",
    "\n",
    "df = pd.DataFrame(columns=['X', 'Y', 'Z'])\n",
    "df['X'] = ['A', 'B', 'C']\n",
    "df['Y'] = [1, 2, 3]\n",
    "df['Z'] = ['red', 'green', 'blue']\n",
    "print(df.head())"
   ]
  },
  {
   "cell_type": "markdown",
   "metadata": {},
   "source": [
    "So now lets find the value of Z in the row where X is \"B\". Note the brackets around \"Z\""
   ]
  },
  {
   "cell_type": "code",
   "execution_count": 2,
   "metadata": {},
   "outputs": [
    {
     "name": "stdout",
     "output_type": "stream",
     "text": [
      "       Z\n",
      "1  green\n"
     ]
    }
   ],
   "source": [
    "print(df.loc[df['X'] == 'B', ['Z']])"
   ]
  },
  {
   "cell_type": "markdown",
   "metadata": {},
   "source": [
    "Lets change that to purple"
   ]
  },
  {
   "cell_type": "code",
   "execution_count": 3,
   "metadata": {},
   "outputs": [
    {
     "name": "stdout",
     "output_type": "stream",
     "text": [
      "        Z\n",
      "1  purple\n"
     ]
    }
   ],
   "source": [
    "df.loc[df['X'] == 'B', ['Z']] = 'purple'\n",
    "print(df.loc[df['X'] == 'B', ['Z']])"
   ]
  },
  {
   "cell_type": "markdown",
   "metadata": {},
   "source": [
    "Now lets change the value of Z in the row where X is \"C\" to be equal to the value of Z where X is \"B\""
   ]
  },
  {
   "cell_type": "code",
   "execution_count": 4,
   "metadata": {},
   "outputs": [
    {
     "name": "stdout",
     "output_type": "stream",
     "text": [
      "   X  Y       Z\n",
      "0  A  1     red\n",
      "1  B  2  purple\n",
      "2  C  3     NaN\n"
     ]
    }
   ],
   "source": [
    "df.loc[df['X'] == 'C', ['Z']] = df.loc[df['X'] == 'B', ['Z']]\n",
    "print(df.head())"
   ]
  },
  {
   "cell_type": "markdown",
   "metadata": {},
   "source": [
    "Oops. That didn't work as expected. Here is the trick. We need to use the `values` attribute."
   ]
  },
  {
   "cell_type": "code",
   "execution_count": 5,
   "metadata": {},
   "outputs": [
    {
     "name": "stdout",
     "output_type": "stream",
     "text": [
      "   X  Y       Z\n",
      "0  A  1     red\n",
      "1  B  2  purple\n",
      "2  C  3  purple\n"
     ]
    }
   ],
   "source": [
    "df.loc[df['X'] == 'C', ['Z']] = df.loc[df['X'] == 'B', ['Z']].values\n",
    "print(df.head())"
   ]
  },
  {
   "cell_type": "code",
   "execution_count": null,
   "metadata": {},
   "outputs": [],
   "source": []
  }
 ],
 "metadata": {
  "kernelspec": {
   "display_name": "Python 3",
   "language": "python",
   "name": "python3"
  },
  "language_info": {
   "codemirror_mode": {
    "name": "ipython",
    "version": 3
   },
   "file_extension": ".py",
   "mimetype": "text/x-python",
   "name": "python",
   "nbconvert_exporter": "python",
   "pygments_lexer": "ipython3",
   "version": "3.7.3"
  }
 },
 "nbformat": 4,
 "nbformat_minor": 4
}
