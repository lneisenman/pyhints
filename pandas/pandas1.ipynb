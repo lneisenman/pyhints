{
 "cells": [
  {
   "cell_type": "markdown",
   "metadata": {},
   "source": [
    "Summarizing across multiple data frames\n",
    "======================"
   ]
  },
  {
   "cell_type": "markdown",
   "metadata": {},
   "source": [
    "The problem: Experimental data from a series of readings from a plate is contained in a set of [Pandas](http://pandas.pydata.org/) dataframes. For each of 4 wells (A, B, C and D) on the plate, there is a mean and sem value. There are 4 readings from the plate. We want to be able to analyse data from each well. The question is how to deal with this 3-D data set using the 2-D dataframe in Pandas."
   ]
  },
  {
   "cell_type": "markdown",
   "metadata": {},
   "source": [
    "We'll start by creating some mock data where each experiment is in a dataframe and the dataframes are in a list called `data`."
   ]
  },
  {
   "cell_type": "code",
   "execution_count": 1,
   "metadata": {
    "collapsed": true,
    "jupyter": {
     "outputs_hidden": true
    }
   },
   "outputs": [],
   "source": [
    "import matplotlib.pyplot as plt\n",
    "import numpy as np\n",
    "import pandas as pd\n",
    "\n",
    "data = list()\n",
    "for i in range(4):\n",
    "    mean = (i+1)*np.arange(1, 5)\n",
    "    sem = np.ones(4)\n",
    "    df = pd.DataFrame(None, index=['A', 'B', 'C', 'D'])\n",
    "    df['mean'] = mean\n",
    "    df['sem'] = sem\n",
    "    data.append(df)"
   ]
  },
  {
   "cell_type": "markdown",
   "metadata": {},
   "source": [
    "What we are going to do is to create a new dataframe with an additional field that we will call 'trial' and combine the data into that dataframe. Once the data is aggregated, we can use the `groupby` and `get_group` functions to pull out the data for each well. For this demonstration, we will just plot the data."
   ]
  },
  {
   "cell_type": "code",
   "execution_count": 2,
   "metadata": {},
   "outputs": [
    {
     "data": {
      "image/png": "[encoded data removed]",
      "text/plain": [
       "<matplotlib.figure.Figure at 0x7f36f7468b70>"
      ]
     },
     "metadata": {},
     "output_type": "display_data"
    }
   ],
   "source": [
    "summary = pd.DataFrame()\n",
    "for i, df in enumerate(data):\n",
    "    df['trial'] = i + 1\n",
    "    summary = summary.append(df)\n",
    "    \n",
    "group_A = summary.groupby(summary.index).get_group('A')\n",
    "mean = group_A['mean']\n",
    "sem = group_A['sem']\n",
    "labels = group_A['trial']\n",
    "plt.bar(range(len(mean)), mean, yerr=sem, tick_label=labels)\n",
    "plt.show()"
   ]
  }
 ],
 "metadata": {
  "kernelspec": {
   "display_name": "Python 3",
   "language": "python",
   "name": "python3"
  },
  "language_info": {
   "codemirror_mode": {
    "name": "ipython",
    "version": 3
   },
   "file_extension": ".py",
   "mimetype": "text/x-python",
   "name": "python",
   "nbconvert_exporter": "python",
   "pygments_lexer": "ipython3",
   "version": "3.7.3"
  }
 },
 "nbformat": 4,
 "nbformat_minor": 4
}
