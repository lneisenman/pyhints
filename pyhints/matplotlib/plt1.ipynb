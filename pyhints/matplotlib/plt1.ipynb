{
 "cells": [
  {
   "cell_type": "markdown",
   "metadata": {},
   "source": [
    "# Hide the box around graphs"
   ]
  },
  {
   "cell_type": "code",
   "execution_count": 1,
   "metadata": {},
   "outputs": [],
   "source": [
    "%matplotlib inline\n",
    "import matplotlib.pyplot as plt\n",
    "import numpy as np\n",
    "\n",
    "plt.style.use({'axes.spines.top': False, 'axes.spines.right': False})"
   ]
  },
  {
   "cell_type": "markdown",
   "metadata": {},
   "source": [
    "# Bar Graphs"
   ]
  },
  {
   "cell_type": "markdown",
   "metadata": {},
   "source": [
    "Here is a sample [bar graph](https://matplotlib.org/api/pyplot_api.html#matplotlib.pyplot.bar) in matplotlib"
   ]
  },
  {
   "cell_type": "markdown",
   "metadata": {},
   "source": [
    "We'll start by creating some mock data"
   ]
  },
  {
   "cell_type": "code",
   "execution_count": 2,
   "metadata": {},
   "outputs": [],
   "source": [
    "xvalues = np.arange(4) + 0.5\n",
    "data = np.arange(1, 5)\n",
    "lower = np.zeros(4)\n",
    "upper = 0.5*np.ones(4)\n",
    "sem = [lower, upper]\n",
    "labels = ['A', 'B', 'C', 'D']\n",
    "edges = ['k']*4"
   ]
  },
  {
   "cell_type": "markdown",
   "metadata": {},
   "source": [
    "And now the plot. Note that there are only upper bounds on the error bars because zeros were passed for the lower values by defining sem as a list with two sets of values."
   ]
  },
  {
   "cell_type": "code",
   "execution_count": 3,
   "metadata": {},
   "outputs": [
    {
     "data": {
      "image/png": "[encoded data removed]",
      "text/plain": [
       "<Figure size 432x288 with 1 Axes>"
      ]
     },
     "metadata": {
      "needs_background": "light"
     },
     "output_type": "display_data"
    }
   ],
   "source": [
    "plt.bar(xvalues, data, yerr=sem, tick_label=labels,\n",
    "        color='y', edgecolor=edges, capsize=10)\n",
    "plt.xlabel('condition')\n",
    "plt.ylabel('value')\n",
    "plt.title('Demo');"
   ]
  },
  {
   "cell_type": "markdown",
   "metadata": {},
   "source": [
    "# Multibar graphs\n",
    "\n",
    "Here is a function that returns a multi bar graph"
   ]
  },
  {
   "cell_type": "code",
   "execution_count": 4,
   "metadata": {},
   "outputs": [],
   "source": [
    "def multi_bar_plot(data, labels=None, errors=None, capsize=20):\n",
    "    ''' make a multiple bar plot\n",
    "\n",
    "    data: list of values\n",
    "    labels: list of x_axis labels\n",
    "    err: list of values for error bars\n",
    "\n",
    "    '''\n",
    "    fig = plt.figure()\n",
    "    bars = len(data)\n",
    "    width = 1/(bars + 1)\n",
    "    x = np.arange(len(data[0])) - width*(bars-1)/2\n",
    "    if labels is None:\n",
    "        labels = np.arange(len(data[0]))\n",
    "\n",
    "    if errors is None:\n",
    "        for heights in data:\n",
    "            plt.bar(x, heights, width=width)\n",
    "            x += width\n",
    "    else:\n",
    "        for heights, err in zip(data, errors):\n",
    "            plt.bar(x, heights, width=width, yerr=err, capsize=capsize/bars)\n",
    "            x += width\n",
    "\n",
    "    if labels is not None:\n",
    "        plt.xticks(np.arange(len(data[0])), labels)\n",
    "    else:\n",
    "        plt.xticks(np.arange(len(data[0])))\n",
    "\n",
    "    return fig"
   ]
  },
  {
   "cell_type": "markdown",
   "metadata": {},
   "source": [
    "And some data to test it ...."
   ]
  },
  {
   "cell_type": "code",
   "execution_count": 5,
   "metadata": {},
   "outputs": [
    {
     "data": {
      "image/png": "[encoded data removed]",
      "text/plain": [
       "<Figure size 432x288 with 1 Axes>"
      ]
     },
     "metadata": {
      "needs_background": "light"
     },
     "output_type": "display_data"
    }
   ],
   "source": [
    "data1 = np.arange(4) + 1\n",
    "data2 = data1 + 1\n",
    "data3 = data2 + 1\n",
    "data4 = data3 + 1\n",
    "data5 = data4 + 1\n",
    "data = [data1, data2, data3, data4, data5]\n",
    "error1 = np.asarray([0.5]*len(data1))\n",
    "error0 = np.zeros_like(data1)\n",
    "temp = [error0, error1]\n",
    "err = [temp]*len(data)\n",
    "labels = ['left', 'center', 'right', 'crazy']\n",
    "fig = multi_bar_plot(data, labels, err);"
   ]
  },
  {
   "cell_type": "markdown",
   "metadata": {},
   "source": [
    "# Bar graphs with Pandas"
   ]
  },
  {
   "cell_type": "code",
   "execution_count": 6,
   "metadata": {},
   "outputs": [
    {
     "data": {
      "text/plain": [
       "<matplotlib.axes._subplots.AxesSubplot at 0x8a73400>"
      ]
     },
     "execution_count": 6,
     "metadata": {},
     "output_type": "execute_result"
    },
    {
     "data": {
      "image/png": "[encoded data removed]",
      "text/plain": [
       "<Figure size 432x288 with 1 Axes>"
      ]
     },
     "metadata": {
      "needs_background": "light"
     },
     "output_type": "display_data"
    }
   ],
   "source": [
    "import pandas as pd\n",
    "df = pd.DataFrame({'data1': data1, 'data2': data2, 'data3': data3, 'data4': data4, 'data5': data5},\n",
    "                 index=labels)\n",
    "\n",
    "df.plot.bar(rot=0, legend=False, width=0.8, yerr=err, capsize=4)"
   ]
  },
  {
   "cell_type": "markdown",
   "metadata": {},
   "source": [
    "# Bar graphs with Seaborn\n",
    "We need to [convert](https://pandas.pydata.org/pandas-docs/stable/generated/pandas.wide_to_long.html) wide format data to long format (tidy) to work well with Seaborn. If we included all of the data, Seaborn would calculate error bars for us."
   ]
  },
  {
   "cell_type": "code",
   "execution_count": 7,
   "metadata": {},
   "outputs": [
    {
     "data": {
      "text/plain": [
       "<matplotlib.axes._subplots.AxesSubplot at 0x9975dd8>"
      ]
     },
     "execution_count": 7,
     "metadata": {},
     "output_type": "execute_result"
    },
    {
     "data": {
      "image/png": "[encoded data removed]",
      "text/plain": [
       "<Figure size 432x288 with 1 Axes>"
      ]
     },
     "metadata": {
      "needs_background": "light"
     },
     "output_type": "display_data"
    }
   ],
   "source": [
    "import seaborn as sns\n",
    "\n",
    "df2 = pd.wide_to_long(df.reset_index(), ['data'], i='index', j='dataset').reset_index()\n",
    "sns.barplot(x='index', y='data', hue='dataset', data=df2)"
   ]
  }
 ],
 "metadata": {
  "kernelspec": {
   "display_name": "Python 3",
   "language": "python",
   "name": "python3"
  },
  "language_info": {
   "codemirror_mode": {
    "name": "ipython",
    "version": 3
   },
   "file_extension": ".py",
   "mimetype": "text/x-python",
   "name": "python",
   "nbconvert_exporter": "python",
   "pygments_lexer": "ipython3",
   "version": "3.7.2"
  }
 },
 "nbformat": 4,
 "nbformat_minor": 2
}
