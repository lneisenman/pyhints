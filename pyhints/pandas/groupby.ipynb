{
 "cells": [
  {
   "cell_type": "markdown",
   "metadata": {},
   "source": [
    "# Organizing data with the Pandas *groupby* function"
   ]
  },
  {
   "cell_type": "markdown",
   "metadata": {},
   "source": [
    "For this example we will assume and experiment comparing the effect of a drug on wildtype and mutant animal. There are two measurements for each animal prior to and after drug treatment. We will start with the data in [tidy format](https://en.wikipedia.org/wiki/Tidy_data)"
   ]
  },
  {
   "cell_type": "code",
   "execution_count": 1,
   "metadata": {},
   "outputs": [
    {
     "name": "stdout",
     "output_type": "stream",
     "text": [
      "   animal genotype  condition  measurement  value\n",
      "0       1       WT   baseline            1    0.9\n",
      "1       1       WT   baseline            2    1.1\n",
      "2       1       WT  treatment            1    1.8\n",
      "3       1       WT  treatment            2    2.2\n",
      "4       2       WT   baseline            1    0.8\n"
     ]
    }
   ],
   "source": [
    "import pandas as pd\n",
    "\n",
    "df = pd.read_csv('groupby_data.csv')\n",
    "print(df.head())"
   ]
  },
  {
   "cell_type": "markdown",
   "metadata": {},
   "source": [
    "We'd like to compare treatment to baseline in both the WT and mutant animals. The [Pandas](https://pandas.pydata.org/) *groupby* function will organize the data for us and the resulting data structure has a *get_group* function that will allow us to access the data for each of the four groups"
   ]
  },
  {
   "cell_type": "code",
   "execution_count": 2,
   "metadata": {},
   "outputs": [
    {
     "name": "stdout",
     "output_type": "stream",
     "text": [
      "   animal genotype condition  measurement  value\n",
      "0       1       WT  baseline            1    0.9\n",
      "1       1       WT  baseline            2    1.1\n",
      "4       2       WT  baseline            1    0.8\n",
      "5       2       WT  baseline            2    1.2\n"
     ]
    }
   ],
   "source": [
    "grouped = df.groupby(['genotype', 'condition'])\n",
    "wt_baseline = grouped.get_group(('WT', 'baseline'))\n",
    "print(wt_baseline.head())"
   ]
  },
  {
   "cell_type": "markdown",
   "metadata": {},
   "source": [
    "The *groupby* data structure has [methods](http://pandas.pydata.org/pandas-docs/stable/groupby.html#groupby-object-attributes) for basic data analysis. We'll use the *mean* and *std* methods which generate new dataframes, each with a [multiIndex](http://pandas.pydata.org/pandas-docs/stable/advanced.html). In these dataframes, the value column now represent the mean (std) of the corresponding category of animals. With the multiIndex, accessing sections of the data is relatively easy."
   ]
  },
  {
   "cell_type": "code",
   "execution_count": 3,
   "metadata": {},
   "outputs": [
    {
     "name": "stdout",
     "output_type": "stream",
     "text": [
      "                    animal  measurement  value\n",
      "genotype condition                            \n",
      "WT       baseline      1.5          1.5    1.0\n",
      "         treatment     1.5          1.5    2.0\n",
      "mutant   baseline      3.5          1.5    2.0\n",
      "         treatment     3.5          1.5    2.0\n",
      "\n",
      "The WT baseline average is 1.0\n",
      "\n",
      "condition\n",
      "baseline     1.0\n",
      "treatment    2.0\n",
      "Name: value, dtype: float64\n",
      "\n",
      "genotype\n",
      "WT        1.0\n",
      "mutant    2.0\n",
      "Name: value, dtype: float64\n"
     ]
    }
   ],
   "source": [
    "mean = grouped.mean()\n",
    "std = grouped.std()\n",
    "print(mean.head())\n",
    "print()\n",
    "print('The WT baseline average is', mean.loc[('WT','baseline')]['value'])\n",
    "print()\n",
    "print(mean.loc[('WT',)]['value'])  # THe loc method provides easy access to the top level of the multiIndex\n",
    "print()\n",
    "print(mean.xs('baseline', level=1)['value'])  # need the xs method to access sublevels of the multiIndex"
   ]
  },
  {
   "cell_type": "code",
   "execution_count": 4,
   "metadata": {},
   "outputs": [
    {
     "data": {
      "text/plain": [
       "<matplotlib.axes._subplots.AxesSubplot at 0x88eb128>"
      ]
     },
     "execution_count": 4,
     "metadata": {},
     "output_type": "execute_result"
    },
    {
     "data": {
      "image/png": "[encoded data removed]",
      "text/plain": [
       "<Figure size 432x288 with 1 Axes>"
      ]
     },
     "metadata": {
      "needs_background": "light"
     },
     "output_type": "display_data"
    }
   ],
   "source": [
    "%matplotlib inline\n",
    "\n",
    "mean.plot.bar(y='value', yerr=std['value'], capsize=3, legend=False)"
   ]
  },
  {
   "cell_type": "markdown",
   "metadata": {},
   "source": [
    "In some cases, it is better to create dataframes with labelled columns rather than a MultiIndex. For example, categorical plots in [Seaborn](https://seaborn.pydata.org/) work better without the MultiIndex.\n",
    "\n",
    "This can be accomplished by passing the parameter `as_index=False` to the `groupby` function"
   ]
  },
  {
   "cell_type": "code",
   "execution_count": 5,
   "metadata": {},
   "outputs": [
    {
     "name": "stdout",
     "output_type": "stream",
     "text": [
      "  genotype  condition  animal  measurement  value\n",
      "0       WT   baseline     1.5          1.5    1.0\n",
      "1       WT  treatment     1.5          1.5    2.0\n",
      "2   mutant   baseline     3.5          1.5    2.0\n",
      "3   mutant  treatment     3.5          1.5    2.0\n"
     ]
    },
    {
     "data": {
      "text/plain": [
       "<seaborn.axisgrid.FacetGrid at 0x970aeb8>"
      ]
     },
     "execution_count": 5,
     "metadata": {},
     "output_type": "execute_result"
    },
    {
     "data": {
      "image/png": "[encoded data removed]",
      "text/plain": [
       "<Figure size 432.25x360 with 1 Axes>"
      ]
     },
     "metadata": {
      "needs_background": "light"
     },
     "output_type": "display_data"
    }
   ],
   "source": [
    "import seaborn as sns\n",
    "\n",
    "mean2 = df.groupby(['genotype', 'condition'], as_index=False).mean()\n",
    "print(mean2.head())\n",
    "sns.catplot(x='condition', y='value', hue='genotype', kind='point', data=mean2)"
   ]
  },
  {
   "cell_type": "code",
   "execution_count": null,
   "metadata": {},
   "outputs": [],
   "source": []
  }
 ],
 "metadata": {
  "kernelspec": {
   "display_name": "Python 3",
   "language": "python",
   "name": "python3"
  },
  "language_info": {
   "codemirror_mode": {
    "name": "ipython",
    "version": 3
   },
   "file_extension": ".py",
   "mimetype": "text/x-python",
   "name": "python",
   "nbconvert_exporter": "python",
   "pygments_lexer": "ipython3",
   "version": "3.7.1"
  }
 },
 "nbformat": 4,
 "nbformat_minor": 2
}
